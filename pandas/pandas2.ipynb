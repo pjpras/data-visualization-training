{
 "cells": [
  {
   "cell_type": "code",
   "execution_count": 1,
   "metadata": {},
   "outputs": [
    {
     "name": "stdout",
     "output_type": "stream",
     "text": [
      "CSV file 'customer_data.csv' has been created.\n"
     ]
    }
   ],
   "source": [
    "import pandas as pd\n",
    "\n",
    "# Create a sample DataFrame\n",
    "data = {\n",
    "    'Gender': ['Female', 'Male', 'Female', 'Female', 'Male', 'Female'],\n",
    "    'State_names': ['New York', 'California', 'New York', 'Texas', 'New York', 'New York'],\n",
    "    'Age': [25, 30, 22, 40, 35, 29],\n",
    "    'Marital_status': ['Married', 'Single', 'Married', 'Single', 'Married', 'Married'],\n",
    "    'Payment_method': ['Credit Card', 'Debit Card', 'Cash', 'Credit Card', 'Cash', 'Debit Card'],\n",
    "    'Amount_spent': [200, 150, 180, 220, 170, 200]\n",
    "}\n",
    "\n",
    "df = pd.DataFrame(data)\n",
    "\n",
    "# Save the DataFrame to a CSV file\n",
    "csv_file_path = 'customer_data.csv'\n",
    "df.to_csv(csv_file_path, index=False)\n",
    "\n",
    "print(f\"CSV file '{csv_file_path}' has been created.\")"
   ]
  },
  {
   "cell_type": "code",
   "execution_count": 13,
   "metadata": {},
   "outputs": [
    {
     "name": "stdout",
     "output_type": "stream",
     "text": [
      "   Gender State_names  Age Marital_status Payment_method  Amount_spent  Salary\n",
      "0  Female    New York   25        Married    Credit Card           200   10000\n",
      "2  Female    New York   22        Married           Cash           180   12000\n",
      "5  Female    New York   29        Married     Debit Card           200   11000\n"
     ]
    },
    {
     "data": {
      "text/html": [
       "<div>\n",
       "<style scoped>\n",
       "    .dataframe tbody tr th:only-of-type {\n",
       "        vertical-align: middle;\n",
       "    }\n",
       "\n",
       "    .dataframe tbody tr th {\n",
       "        vertical-align: top;\n",
       "    }\n",
       "\n",
       "    .dataframe thead th {\n",
       "        text-align: right;\n",
       "    }\n",
       "</style>\n",
       "<table border=\"1\" class=\"dataframe\">\n",
       "  <thead>\n",
       "    <tr style=\"text-align: right;\">\n",
       "      <th></th>\n",
       "      <th>Age</th>\n",
       "      <th>Amount_spent</th>\n",
       "      <th>Salary</th>\n",
       "    </tr>\n",
       "    <tr>\n",
       "      <th>Gender</th>\n",
       "      <th></th>\n",
       "      <th></th>\n",
       "      <th></th>\n",
       "    </tr>\n",
       "  </thead>\n",
       "  <tbody>\n",
       "    <tr>\n",
       "      <th>Female</th>\n",
       "      <td>40</td>\n",
       "      <td>220</td>\n",
       "      <td>13000</td>\n",
       "    </tr>\n",
       "    <tr>\n",
       "      <th>Male</th>\n",
       "      <td>35</td>\n",
       "      <td>170</td>\n",
       "      <td>15000</td>\n",
       "    </tr>\n",
       "  </tbody>\n",
       "</table>\n",
       "</div>"
      ],
      "text/plain": [
       "        Age  Amount_spent  Salary\n",
       "Gender                           \n",
       "Female   40           220   13000\n",
       "Male     35           170   15000"
      ]
     },
     "execution_count": 13,
     "metadata": {},
     "output_type": "execute_result"
    }
   ],
   "source": [
    "# Provide the path to your CSV file\n",
    "# Replace with the actual path to your CSV file\n",
    "csv_file_path = 'customer_data.csv'\n",
    "col = ['Gender', 'State_names', 'Age', 'Marital_status',\n",
    "       'Payment_method', 'Amount_spent', 'Salary']\n",
    "# Use read_csv to read the data from the CSV file into a DataFrame\n",
    "df = pd.read_csv(csv_file_path, usecols=col)\n",
    "# first create 3 condition\n",
    "female_person = df['Gender'] == 'Female'\n",
    "married_person = df['Marital_status'] == 'Married'\n",
    "loc_newyork = df['State_names'] == 'New York'\n",
    "\n",
    "print(df[female_person & married_person & loc_newyork].head(4))\n",
    "\n",
    "df[['Age', 'Amount_spent', 'Salary']].groupby(df['Gender']).max()"
   ]
  },
  {
   "cell_type": "code",
   "execution_count": 14,
   "metadata": {},
   "outputs": [
    {
     "name": "stdout",
     "output_type": "stream",
     "text": [
      "         Age           Amount_spent            \n",
      "       count  mean max        count   mean  max\n",
      "Gender                                         \n",
      "Female     4  29.0  40            4  200.0  220\n",
      "Male       2  32.5  35            2  160.0  170\n"
     ]
    }
   ],
   "source": [
    "import pandas as pd\n",
    "# Provide the path to your CSV file\n",
    "# Replace with the actual path to your CSV file\n",
    "csv_file_path = 'customer_data.csv'\n",
    "# Use read_csv to read the data from the CSV file into a DataFrame\n",
    "df = pd.read_csv(csv_file_path)\n",
    "# Group by one columns\n",
    "print(df[['Age', 'Gender', 'Amount_spent']].groupby(['Gender']).agg(['count', 'mean',\n",
    "                                                                    'max']))"
   ]
  },
  {
   "cell_type": "code",
   "execution_count": 16,
   "metadata": {},
   "outputs": [
    {
     "name": "stdout",
     "output_type": "stream",
     "text": [
      "                                  Amount_spent          \n",
      "                                         count  min  max\n",
      "State_names Gender Payment_method                       \n",
      "California  Male   Debit Card                1  150  150\n",
      "New York    Female Cash                      1  180  180\n",
      "                   Credit Card               1  200  200\n",
      "                   Debit Card                1  200  200\n",
      "            Male   Cash                      1  170  170\n",
      "Texas       Female Credit Card               1  220  220\n"
     ]
    }
   ],
   "source": [
    "import pandas as pd\n",
    "# Provide the path to your CSV file\n",
    "# Replace with the actual path to your CSV file\n",
    "csv_file_path = 'customer_data.csv'\n",
    "# Use read_csv to read the data from the CSV file into a DataFrame\n",
    "df = pd.read_csv(csv_file_path)\n",
    "# Group By multiple columns\n",
    "state_gender_res = df[['State_names', 'Gender', 'Payment_method', 'Amount_spent']].groupby([\n",
    "    'State_names', 'Gender', 'Payment_method']).agg(['count', 'min', 'max'])\n",
    "# fetch top 12 records meeting the above condition\n",
    "print(state_gender_res.head(12))"
   ]
  },
  {
   "cell_type": "code",
   "execution_count": 21,
   "metadata": {},
   "outputs": [
    {
     "data": {
      "image/png": "[encoded data removed]",
      "text/plain": [
       "<Figure size 640x480 with 1 Axes>"
      ]
     },
     "metadata": {},
     "output_type": "display_data"
    }
   ],
   "source": [
    "import pandas as pd\n",
    "# Provide the path to your CSV file\n",
    "# Replace with the actual path to your CSV file\n",
    "csv_file_path = 'customer_data.csv'\n",
    "# Use read_csv to read the data from the CSV file into a DataFrame\n",
    "df = pd.read_csv(csv_file_path)\n",
    "df.dropna(inplace=True)\n",
    "df['Amount_spent'].value_counts().plot(kind='bar')"
   ]
  },
  {
   "cell_type": "code",
   "execution_count": 1,
   "metadata": {},
   "outputs": [
    {
     "data": {
      "text/html": [
       "<div>\n",
       "<style scoped>\n",
       "    .dataframe tbody tr th:only-of-type {\n",
       "        vertical-align: middle;\n",
       "    }\n",
       "\n",
       "    .dataframe tbody tr th {\n",
       "        vertical-align: top;\n",
       "    }\n",
       "\n",
       "    .dataframe thead th {\n",
       "        text-align: right;\n",
       "    }\n",
       "</style>\n",
       "<table border=\"1\" class=\"dataframe\">\n",
       "  <thead>\n",
       "    <tr style=\"text-align: right;\">\n",
       "      <th>Category</th>\n",
       "      <th>A</th>\n",
       "      <th>B</th>\n",
       "      <th>C</th>\n",
       "      <th>Total</th>\n",
       "    </tr>\n",
       "    <tr>\n",
       "      <th>Date</th>\n",
       "      <th></th>\n",
       "      <th></th>\n",
       "      <th></th>\n",
       "      <th></th>\n",
       "    </tr>\n",
       "  </thead>\n",
       "  <tbody>\n",
       "    <tr>\n",
       "      <th>2021-01-01</th>\n",
       "      <td>100.3</td>\n",
       "      <td>0.0</td>\n",
       "      <td>0.0</td>\n",
       "      <td>100.3</td>\n",
       "    </tr>\n",
       "    <tr>\n",
       "      <th>2021-01-02</th>\n",
       "      <td>0.0</td>\n",
       "      <td>200.2</td>\n",
       "      <td>0.0</td>\n",
       "      <td>200.2</td>\n",
       "    </tr>\n",
       "    <tr>\n",
       "      <th>2021-01-03</th>\n",
       "      <td>300.5</td>\n",
       "      <td>0.0</td>\n",
       "      <td>0.0</td>\n",
       "      <td>300.5</td>\n",
       "    </tr>\n",
       "    <tr>\n",
       "      <th>2021-01-04</th>\n",
       "      <td>0.0</td>\n",
       "      <td>0.0</td>\n",
       "      <td>400.6</td>\n",
       "      <td>400.6</td>\n",
       "    </tr>\n",
       "    <tr>\n",
       "      <th>2021-01-05</th>\n",
       "      <td>0.0</td>\n",
       "      <td>500.7</td>\n",
       "      <td>0.0</td>\n",
       "      <td>500.7</td>\n",
       "    </tr>\n",
       "    <tr>\n",
       "      <th>Total</th>\n",
       "      <td>400.8</td>\n",
       "      <td>700.9</td>\n",
       "      <td>400.6</td>\n",
       "      <td>1502.3</td>\n",
       "    </tr>\n",
       "  </tbody>\n",
       "</table>\n",
       "</div>"
      ],
      "text/plain": [
       "Category        A      B      C   Total\n",
       "Date                                   \n",
       "2021-01-01  100.3    0.0    0.0   100.3\n",
       "2021-01-02    0.0  200.2    0.0   200.2\n",
       "2021-01-03  300.5    0.0    0.0   300.5\n",
       "2021-01-04    0.0    0.0  400.6   400.6\n",
       "2021-01-05    0.0  500.7    0.0   500.7\n",
       "Total       400.8  700.9  400.6  1502.3"
      ]
     },
     "execution_count": 1,
     "metadata": {},
     "output_type": "execute_result"
    }
   ],
   "source": [
    "import pandas as pd\n",
    "import numpy as np\n",
    "data = {\n",
    "    'Date': ['2021-01-01', '2021-01-02', '2021-01-03', '2021-01-04', '2021-01-05'],\n",
    "    'Category': ['A', 'B', 'A', 'C', 'B'],\n",
    "    'Sales': [100.345, 200.2345, 300.4567, 400.567, 500.678],\n",
    "    'Quantity': [10, 20, 15, 25, 30]\n",
    "}\n",
    "\n",
    "df = pd.DataFrame(data)\n",
    "pivot_table = pd.pivot_table(df, values='Sales', index='Date', columns='Category', aggfunc={'Sales': 'sum'}, fill_value=0, dropna=False, margins=True, margins_name='Total')\n",
    "np.round(pivot_table, 1)\n",
    "\n"
   ]
  },
  {
   "cell_type": "code",
   "execution_count": 6,
   "metadata": {},
   "outputs": [
    {
     "data": {
      "text/html": [
       "<div>\n",
       "<style scoped>\n",
       "    .dataframe tbody tr th:only-of-type {\n",
       "        vertical-align: middle;\n",
       "    }\n",
       "\n",
       "    .dataframe tbody tr th {\n",
       "        vertical-align: top;\n",
       "    }\n",
       "\n",
       "    .dataframe thead th {\n",
       "        text-align: right;\n",
       "    }\n",
       "</style>\n",
       "<table border=\"1\" class=\"dataframe\">\n",
       "  <thead>\n",
       "    <tr style=\"text-align: right;\">\n",
       "      <th></th>\n",
       "      <th>Gender</th>\n",
       "      <th>State_names</th>\n",
       "      <th>Age</th>\n",
       "      <th>Marital_status</th>\n",
       "      <th>Payment_method</th>\n",
       "      <th>Amount_spent</th>\n",
       "      <th>Salary</th>\n",
       "    </tr>\n",
       "  </thead>\n",
       "  <tbody>\n",
       "    <tr>\n",
       "      <th>3</th>\n",
       "      <td>Female</td>\n",
       "      <td>Texas</td>\n",
       "      <td>40</td>\n",
       "      <td>Single</td>\n",
       "      <td>Credit Card</td>\n",
       "      <td>220</td>\n",
       "      <td>13000</td>\n",
       "    </tr>\n",
       "    <tr>\n",
       "      <th>5</th>\n",
       "      <td>Female</td>\n",
       "      <td>New York</td>\n",
       "      <td>29</td>\n",
       "      <td>Married</td>\n",
       "      <td>Debit Card</td>\n",
       "      <td>200</td>\n",
       "      <td>11000</td>\n",
       "    </tr>\n",
       "  </tbody>\n",
       "</table>\n",
       "</div>"
      ],
      "text/plain": [
       "   Gender State_names  Age Marital_status Payment_method  Amount_spent  Salary\n",
       "3  Female       Texas   40         Single    Credit Card           220   13000\n",
       "5  Female    New York   29        Married     Debit Card           200   11000"
      ]
     },
     "execution_count": 6,
     "metadata": {},
     "output_type": "execute_result"
    }
   ],
   "source": [
    "csv_file_path = 'customer_data.csv'\n",
    "\n",
    "df = pd.read_csv(csv_file_path)\n",
    "\n",
    "df.query('Age>=29 & Amount_spent>=200',inplace=True)\n",
    "df"
   ]
  }
 ],
 "metadata": {
  "kernelspec": {
   "display_name": "Python 3",
   "language": "python",
   "name": "python3"
  },
  "language_info": {
   "codemirror_mode": {
    "name": "ipython",
    "version": 3
   },
   "file_extension": ".py",
   "mimetype": "text/x-python",
   "name": "python",
   "nbconvert_exporter": "python",
   "pygments_lexer": "ipython3",
   "version": "3.11.5"
  }
 },
 "nbformat": 4,
 "nbformat_minor": 2
}
