{
 "cells": [
  {
   "cell_type": "code",
   "execution_count": 1,
   "metadata": {},
   "outputs": [
    {
     "name": "stdout",
     "output_type": "stream",
     "text": [
      "Hot Days:\n",
      "Day   temperatures\n",
      "3     36.8\n",
      "6     38.7\n",
      "10     37.2\n",
      "\n",
      "Cold Days:\n",
      "Day   temperatures\n"
     ]
    }
   ],
   "source": [
    "import numpy as np\n",
    "import pandas as pd\n",
    "temperatures = np.array([32.5, 34.2, 36.8, 29.3, 31.0, 38.7, 23.1, 18.5, 22.8, 37.2])\n",
    "\n",
    "print(\"Hot Days:\")\n",
    "print(\"Day   temperatures\")\n",
    "for i in range(len(temperatures)):\n",
    "    if temperatures[i] > 35:\n",
    "        print(f\"{i+1}     {temperatures[i]}\")\n",
    "print(\"\\nCold Days:\")\n",
    "print(\"Day   temperatures\")\n",
    "for i in range(len(temperatures)):\n",
    "    if temperatures[i] < 5:\n",
    "        print(f\"{i+1}     {temperatures[i]}\")\n",
    "\n"
   ]
  },
  {
   "cell_type": "code",
   "execution_count": 2,
   "metadata": {},
   "outputs": [
    {
     "name": "stdout",
     "output_type": "stream",
     "text": [
      "Quarter 1 Sales (in thousands of dollars):\n",
      "[120 135 148]\n",
      "Quarter 2 Sales (in thousands of dollars):\n",
      "[165 180 155]\n",
      "Quarter 3 Sales (in thousands of dollars):\n",
      "[168 190 205]\n",
      "Quarter 4 Sales (in thousands of dollars):\n",
      "[198 210 225]\n"
     ]
    }
   ],
   "source": [
    "monthly_sales = np.array([120, 135, 148, 165, 180, 155, 168, 190, 205, 198, 210, 225])\n",
    "quarterly_sales = monthly_sales.reshape(4, 3)\n",
    "\n",
    "for i in range(len(quarterly_sales)):\n",
    "    print(f\"Quarter {i+1} Sales (in thousands of dollars):\\n{quarterly_sales[i]}\")"
   ]
  },
  {
   "cell_type": "code",
   "execution_count": 3,
   "metadata": {},
   "outputs": [
    {
     "name": "stdout",
     "output_type": "stream",
     "text": [
      "Active Customers (Last Purchase) <= 30 days ago\n",
      "[101 102 103 104 105]\n",
      "Inactive Customers (Last Purchase) > 30 days ago\n",
      "[106 107 108 109 110]\n"
     ]
    }
   ],
   "source": [
    "customer_ids = np.array([101, 102, 103, 104, 105, 106, 107, 108, 109, 110])\n",
    "last_purchase_days_ago = np.array([5, 15, 20, 25, 30, 35, 40, 45, 50, 55])\n",
    "print(\"Active Customers (Last Purchase) <= 30 days ago\")\n",
    "print(customer_ids[last_purchase_days_ago <= 30])\n",
    "\n",
    "print(\"Inactive Customers (Last Purchase) > 30 days ago\")\n",
    "print(customer_ids[last_purchase_days_ago > 30])"
   ]
  },
  {
   "cell_type": "code",
   "execution_count": 4,
   "metadata": {},
   "outputs": [
    {
     "name": "stdout",
     "output_type": "stream",
     "text": [
      "Combined Employee Data:\n",
      "Employee ID: 101, Name: John Doe, Type: Full-Time, Salary: 55000\n",
      "Employee ID: 102, Name: Jane Smith, Type: Full-Time, Salary: 60000\n",
      "Employee ID: 103, Name: Mike Johnson, Type: Full-Time, Salary: 52000\n",
      "Employee ID: 201, Name: Alice Brown, Type: Part-Time, Salary: 25000\n",
      "Employee ID: 202, Name: Bob Wilson, Type: Part-Time, Salary: 28000\n",
      "Employee ID: 203, Name: Emily Davis, Type: Part-Time, Salary: 22000\n"
     ]
    }
   ],
   "source": [
    "# Employee data for full-time employees\n",
    "full_time_employees = np.array([\n",
    "[101, 'John Doe', 'Full-Time', 55000],\n",
    "[102, 'Jane Smith', 'Full-Time', 60000],\n",
    "[103, 'Mike Johnson', 'Full-Time', 52000]\n",
    "])\n",
    "# Employee data for part-time employees\n",
    "part_time_employees = np.array([\n",
    "[201, 'Alice Brown', 'Part-Time', 25000],\n",
    "[202, 'Bob Wilson', 'Part-Time', 28000],\n",
    "[203, 'Emily Davis', 'Part-Time', 22000]\n",
    "])\n",
    "\n",
    "print('Combined Employee Data:')\n",
    "for employee in full_time_employees:\n",
    "    print(f'Employee ID: {employee[0]}, Name: {employee[1]}, Type: {employee[2]}, Salary: {employee[3]}')\n",
    "for employee in part_time_employees:\n",
    "    print(f'Employee ID: {employee[0]}, Name: {employee[1]}, Type: {employee[2]}, Salary: {employee[3]}')\n"
   ]
  },
  {
   "cell_type": "code",
   "execution_count": 5,
   "metadata": {},
   "outputs": [
    {
     "name": "stdout",
     "output_type": "stream",
     "text": [
      "Mean of Each array\n",
      " [5.5, 30.6, 34.0]\n"
     ]
    }
   ],
   "source": [
    "list1 = [\n",
    "np.array([3, 2, 8, 9]),\n",
    "np.array([4, 12, 34, 25, 78]),\n",
    "np.array([23, 12, 67])\n",
    "]\n",
    "mean  = [np.mean(i) for i in list1]\n",
    "print('Mean of Each array\\n',mean)\n"
   ]
  },
  {
   "cell_type": "code",
   "execution_count": 32,
   "metadata": {},
   "outputs": [
    {
     "name": "stdout",
     "output_type": "stream",
     "text": [
      "Printing the Original array:\n",
      " [1 2 3 4 5 6 7]\n",
      "Median of the array that contain odd no of elements\n",
      " 4.0\n"
     ]
    }
   ],
   "source": [
    "x_odd = np.array([1, 2, 3, 4, 5, 6, 7])\n",
    "print('Printing the Original array:\\n',x_odd)\n",
    "print('Median of the array that contain odd no of elements\\n',np.median(x_odd))"
   ]
  },
  {
   "cell_type": "code",
   "execution_count": 33,
   "metadata": {},
   "outputs": [
    {
     "name": "stdout",
     "output_type": "stream",
     "text": [
      "arr : [20, 2, 7, 1, 34]\n",
      "std of arr : 12.576167937809991\n"
     ]
    }
   ],
   "source": [
    "arr = [20, 2, 7, 1, 34]\n",
    "print('arr :',arr)  \n",
    "print('std of arr :',np.std(arr))"
   ]
  },
  {
   "cell_type": "code",
   "execution_count": 1,
   "metadata": {},
   "outputs": [
    {
     "ename": "NameError",
     "evalue": "name 'np' is not defined",
     "output_type": "error",
     "traceback": [
      "\u001b[0;31m---------------------------------------------------------------------------\u001b[0m",
      "\u001b[0;31mNameError\u001b[0m                                 Traceback (most recent call last)",
      "Cell \u001b[0;32mIn[1], line 6\u001b[0m\n\u001b[1;32m      3\u001b[0m data \u001b[38;5;241m=\u001b[39m pd\u001b[38;5;241m.\u001b[39mread_csv(\u001b[38;5;124m'\u001b[39m\u001b[38;5;124mhouse_prices.csv\u001b[39m\u001b[38;5;124m'\u001b[39m)\n\u001b[1;32m      4\u001b[0m house_prices \u001b[38;5;241m=\u001b[39m data[\u001b[38;5;124m'\u001b[39m\u001b[38;5;124mprice\u001b[39m\u001b[38;5;124m'\u001b[39m]\u001b[38;5;241m.\u001b[39mvalues\n\u001b[0;32m----> 6\u001b[0m average_price \u001b[38;5;241m=\u001b[39m \u001b[43mnp\u001b[49m\u001b[38;5;241m.\u001b[39mmean(house_prices)\n\u001b[1;32m      8\u001b[0m high_prices \u001b[38;5;241m=\u001b[39m house_prices[house_prices \u001b[38;5;241m>\u001b[39m average_price]\n\u001b[1;32m     10\u001b[0m high_prices_df \u001b[38;5;241m=\u001b[39m pd\u001b[38;5;241m.\u001b[39mDataFrame(high_prices, columns\u001b[38;5;241m=\u001b[39m[\u001b[38;5;124m'\u001b[39m\u001b[38;5;124mprice\u001b[39m\u001b[38;5;124m'\u001b[39m])\n",
      "\u001b[0;31mNameError\u001b[0m: name 'np' is not defined"
     ]
    }
   ],
   "source": [
    "import pandas as pd\n",
    "\n",
    "data = pd.read_csv('house_prices.csv')\n",
    "house_prices = data['price'].values\n",
    "\n",
    "average_price = np.mean(house_prices)\n",
    "\n",
    "high_prices = house_prices[house_prices > average_price]\n",
    "\n",
    "high_prices_df = pd.DataFrame(high_prices, columns=['price'])\n",
    "high_prices_df.to_csv('high_prices.csv', index=False)"
   ]
  }
 ],
 "metadata": {
  "kernelspec": {
   "display_name": "Python 3",
   "language": "python",
   "name": "python3"
  },
  "language_info": {
   "codemirror_mode": {
    "name": "ipython",
    "version": 3
   },
   "file_extension": ".py",
   "mimetype": "text/x-python",
   "name": "python",
   "nbconvert_exporter": "python",
   "pygments_lexer": "ipython3",
   "version": "3.11.5"
  }
 },
 "nbformat": 4,
 "nbformat_minor": 2
}
