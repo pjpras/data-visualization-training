{
 "cells": [
  {
   "cell_type": "code",
   "execution_count": 2,
   "metadata": {},
   "outputs": [
    {
     "name": "stdout",
     "output_type": "stream",
     "text": [
      "{1, 2, 3, 4, 5}\n",
      "<class 'set'>\n"
     ]
    }
   ],
   "source": [
    "a = {1, 2, 3, 4, 5, 5}\n",
    "print(a)\n",
    "print(type(a))"
   ]
  },
  {
   "cell_type": "code",
   "execution_count": 3,
   "metadata": {},
   "outputs": [
    {
     "name": "stdout",
     "output_type": "stream",
     "text": [
      "True\n",
      "x id is  5100394112\n",
      "y id is  4356509120\n",
      "z id is  5100394112\n"
     ]
    }
   ],
   "source": [
    "x = [\"apple\", \"banana\"]\n",
    "y = [\"apple\", \"banana\"]\n",
    "z = x\n",
    "print(x is z)\n",
    "print(\"x id is \", id(x))\n",
    "print(\"y id is \", id(y))\n",
    "print(\"z id is \", id(z))"
   ]
  },
  {
   "cell_type": "code",
   "execution_count": 4,
   "metadata": {},
   "outputs": [
    {
     "name": "stdout",
     "output_type": "stream",
     "text": [
      "prashant\n",
      "4356838448\n",
      "prashant joshi\n",
      "4356839664\n",
      "<class 'type'>\n"
     ]
    }
   ],
   "source": [
    "a = 'prashant'\n",
    "print(a)\n",
    "print(id(a))\n",
    "a = a+\" joshi\"\n",
    "print(a)\n",
    "print(id(a))\n",
    "b = type(a[0])\n",
    "print(type(b))"
   ]
  },
  {
   "cell_type": "code",
   "execution_count": 5,
   "metadata": {},
   "outputs": [
    {
     "name": "stdout",
     "output_type": "stream",
     "text": [
      "i am python developer\n",
      "name[2:4] am\n",
      "name[5:9] pyth\n",
      "name[:15] i am python dev\n",
      "name[2:] am python developer\n",
      "name[:] i am python developer\n",
      "name[0:17:3] imyode\n",
      "name[:] i am python developer\n",
      "name[::-1] repoleved nohtyp ma i\n",
      "I am python developer\n",
      "    i am python developer     \n",
      "1\n"
     ]
    }
   ],
   "source": [
    "name = \"i am python developer\"\n",
    "print(name)\n",
    "print(\"name[2:4]\", name[2:4])\n",
    "print(\"name[5:9]\", name[5:9])\n",
    "print(\"name[:15]\", name[:15])\n",
    "print(\"name[2:]\", name[2:])\n",
    "print(\"name[:]\", name[:])\n",
    "print(\"name[0:17:3]\", name[0:17:3])\n",
    "print(\"name[:]\", name[::])\n",
    "print(\"name[::-1]\", name[::-1])\n",
    "str = name.capitalize()\n",
    "str1 = name.center(30)\n",
    "print(str)\n",
    "print(str1)\n",
    "\n",
    "str2 = name.count(\"e\", 6, 15)\n",
    "print(str2)"
   ]
  },
  {
   "cell_type": "code",
   "execution_count": 6,
   "metadata": {},
   "outputs": [
    {
     "name": "stdout",
     "output_type": "stream",
     "text": [
      "True\n",
      "True\n",
      "True\n",
      "-1\n",
      "16\n",
      "String contains other chars too\n",
      "True\n",
      "False\n",
      "hello this is python class.\n",
      "HELLO THIS IS PYTHON CLASS.\n",
      "False\n",
      "python***\n",
      "***python\n",
      "python\n",
      "c is a c programming java language java\n"
     ]
    }
   ],
   "source": [
    "str = \"hello this is python class.\"\n",
    "isends = str.endswith(\".\")\n",
    "print(isends)\n",
    "\n",
    "isends = str.endswith(\"is\", 0, 13)\n",
    "print(isends)\n",
    "\n",
    "isends = str.startswith(\"is\", 8, 56)\n",
    "print(isends)\n",
    "\n",
    "isends = str.find(\"x\", 15, 25)  # not found return -1\n",
    "print(isends)\n",
    "\n",
    "isends = str.index(\"th\", 15, 25)  # not found return error\n",
    "print(isends)\n",
    "\n",
    "isends = str.isalnum()\n",
    "\n",
    "if str.isalpha() == True:\n",
    "    print(\"String contains alphabets\")\n",
    "\n",
    "else:\n",
    "    print(\"String contains other chars too\")\n",
    "\n",
    "\n",
    "str2 = str.islower()\n",
    "print(str2)\n",
    "str2 = str.isupper()\n",
    "print(str2)\n",
    "\n",
    "str.upper()\n",
    "print(str)\n",
    "str2 = str.upper()\n",
    "print(str2)\n",
    "\n",
    "str2 = \" 50 \"\n",
    "str2 = str2.isnumeric()\n",
    "print(str2)\n",
    "\n",
    "str = \"***python***\"\n",
    "str2 = str.lstrip(\"*\")\n",
    "str3 = str.rstrip(\"*\")\n",
    "str4 = str.strip(\"*\")\n",
    "\n",
    "print(str2)\n",
    "print(str3)\n",
    "print(str4)\n",
    "\n",
    "str = \"java is a java programming java language java\"\n",
    "str2 = str.replace(\"java\", \"c\", 2)\n",
    "print(str2)"
   ]
  },
  {
   "cell_type": "code",
   "execution_count": 7,
   "metadata": {},
   "outputs": [
    {
     "name": "stdout",
     "output_type": "stream",
     "text": [
      "Total number of alphabets : 28\n",
      "Total number of numeric : 3\n",
      "Total number of special characters : 5\n",
      "Total sum of numeric : 6\n"
     ]
    }
   ],
   "source": [
    "str = \"Python123 swapcase() method converts\"\n",
    "\n",
    "\n",
    "def countChars(str):\n",
    "    al = 0\n",
    "    num = 0\n",
    "    spe = 0\n",
    "    sum = 0\n",
    "\n",
    "    for i in str:\n",
    "        if i.isalpha():\n",
    "            al += 1\n",
    "        elif i.isnumeric():\n",
    "            num += 1\n",
    "            sum += int(i)\n",
    "        else:\n",
    "            spe += 1\n",
    "    return [al, num, spe, sum]\n",
    "\n",
    "\n",
    "a = countChars(str)\n",
    "print(f'Total number of alphabets : {a[0]}')\n",
    "print(f'Total number of numeric : {a[1]}')\n",
    "print(f'Total number of special characters : {a[2]}')\n",
    "print(f'Total sum of numeric : {a[3]}')"
   ]
  },
  {
   "cell_type": "code",
   "execution_count": 8,
   "metadata": {},
   "outputs": [
    {
     "name": "stdout",
     "output_type": "stream",
     "text": [
      "['prashant', 21, 'noida']\n"
     ]
    }
   ],
   "source": [
    "def removeKeys(dict):\n",
    "    a = []\n",
    "    for keys in dict:\n",
    "        a.append(dict[keys])\n",
    "\n",
    "    return a\n",
    "\n",
    "\n",
    "dict = {\"name\": \"prashant\", \"age\": 21, \"city\": \"noida\"}\n",
    "a = removeKeys(dict)\n",
    "print(a)"
   ]
  },
  {
   "cell_type": "code",
   "execution_count": 9,
   "metadata": {},
   "outputs": [
    {
     "name": "stdout",
     "output_type": "stream",
     "text": [
      "line 1\n",
      "line 2\n",
      "line 3\n",
      "line 4\n",
      "hi\n",
      "Something went wrong\n",
      "finally block\n",
      "line 5\n"
     ]
    }
   ],
   "source": [
    "print(\"line 1\")\n",
    "print(\"line 2\")\n",
    "print(\"line 3\")\n",
    "print(\"line 4\")\n",
    "try:\n",
    "    print('hi')\n",
    "    print(10/0)\n",
    "    print(name)\n",
    "except:\n",
    "    print(\"Something went wrong\")\n",
    "else:\n",
    "    print(\"else block\")\n",
    "finally:\n",
    "    print(\"finally block\")\n",
    "print(\"line 5\")"
   ]
  },
  {
   "cell_type": "code",
   "execution_count": 10,
   "metadata": {},
   "outputs": [
    {
     "name": "stdout",
     "output_type": "stream",
     "text": [
      "The age is not valid hi\n"
     ]
    }
   ],
   "source": [
    "def validAge(age):\n",
    "    if (age >= 18):\n",
    "        print(\"The age is valid\")\n",
    "    else:\n",
    "        raise ValueError(\"hi\")\n",
    "\n",
    "\n",
    "try:\n",
    "    validAge(17)\n",
    "except ValueError as e:\n",
    "    print(\"The age is not valid\", e)"
   ]
  },
  {
   "cell_type": "code",
   "execution_count": 11,
   "metadata": {},
   "outputs": [
    {
     "name": "stdout",
     "output_type": "stream",
     "text": [
      "3\n",
      "(2, 2, 3)\n"
     ]
    }
   ],
   "source": [
    "import numpy as np\n",
    "\n",
    "a = np.array([[[1, 2, 3], [4, 5, 6]], [[7, 8, 9], [10, 11, 12]]])\n",
    "\n",
    "print(a.ndim)\n",
    "print(a.shape)"
   ]
  },
  {
   "cell_type": "code",
   "execution_count": 12,
   "metadata": {},
   "outputs": [
    {
     "name": "stdout",
     "output_type": "stream",
     "text": [
      "5100898704 5100898704 5100542384 5100541808\n",
      "[42  2  3  4  5  6  7  8  9] [42  2  3  4  5  6  7  8  9] [42  2  3  4  5  6  7  8  9] [1 2 3 4 5 6 7 8 9]\n"
     ]
    }
   ],
   "source": [
    "a = np.array([1, 2, 3, 4, 5, 6, 7, 8, 9])\n",
    "x = a.view()\n",
    "b = a\n",
    "y = a.copy()\n",
    "print(id(a), id(b), id(x), id(y))\n",
    "b[0] = 42\n",
    "print(x, a, b, y)"
   ]
  },
  {
   "cell_type": "code",
   "execution_count": 13,
   "metadata": {},
   "outputs": [
    {
     "name": "stdout",
     "output_type": "stream",
     "text": [
      "[10 20 30 40 50]\n",
      "[20 30 40]\n",
      "[ 19 109  39  49  59]\n",
      "[100  30  40]\n"
     ]
    }
   ],
   "source": [
    "arr = np.array([10, 20, 30, 40, 50])\n",
    "arr2 = arr[1:4]\n",
    "print(arr)\n",
    "print(arr2)\n",
    "arr[1] = 100\n",
    "print(arr+9)\n",
    "print(arr2)\n",
    "\n",
    "x = arr.copy()\n",
    "arr[0] = 100"
   ]
  },
  {
   "cell_type": "code",
   "execution_count": 14,
   "metadata": {},
   "outputs": [
    {
     "name": "stdout",
     "output_type": "stream",
     "text": [
      "[[9 9 9]\n",
      " [9 9 9]\n",
      " [9 9 9]\n",
      " [9 9 9]\n",
      " [9 9 9]]\n"
     ]
    }
   ],
   "source": [
    "arr = np.zeros((5, 3), dtype=int)+9\n",
    "print(arr)"
   ]
  },
  {
   "cell_type": "markdown",
   "metadata": {},
   "source": []
  },
  {
   "cell_type": "code",
   "execution_count": 15,
   "metadata": {},
   "outputs": [
    {
     "name": "stdout",
     "output_type": "stream",
     "text": [
      "Dot product using np.dot():\n",
      " [[19 22]\n",
      " [43 50]]\n",
      "Dot product using @ operator:\n",
      " [[19 22]\n",
      " [43 50]]\n",
      "[[ 5 12]\n",
      " [21 32]]\n",
      "[[0.44290157 0.54009385]\n",
      " [0.61312783 0.47710105]\n",
      " [0.80024717 0.99637504]]\n",
      "[[76 52 40 75]\n",
      " [71 42 47 70]\n",
      " [72  1 61 68]\n",
      " [29 49 34 17]\n",
      " [32 28 15 74]]\n",
      "[[76 52 40 75 71]\n",
      " [42 47 70 72  1]\n",
      " [61 68 29 49 34]\n",
      " [17 32 28 15 74]]\n",
      "[[341 365 469 213  87]\n",
      " [276 170 323 119 467]\n",
      " [297 456 442   8 269]\n",
      " [267 450 369 217 285]\n",
      " [271 419  22  55 201]\n",
      " [ 38 461 231 187 269]]\n",
      "[[442   8 269]\n",
      " [369 217 285]\n",
      " [ 22  55 201]\n",
      " [231 187 269]]\n",
      "[[369 217]\n",
      " [ 22  55]]\n",
      "[0 0 0 0 0]\n",
      "[ 1  2  3  4  0  0  0  0  0 10]\n"
     ]
    }
   ],
   "source": [
    "import numpy as np\n",
    "\n",
    "A = np.array([[1, 2], [3, 4]])\n",
    "B = np.array([[5, 6], [7, 8]])\n",
    "\n",
    "# Compute the dot product\n",
    "dot_product = np.dot(A, B)\n",
    "# or using the @ operator\n",
    "dot_product_at = A @ B\n",
    "\n",
    "print(\"Dot product using np.dot():\\n\", dot_product)\n",
    "print(\"Dot product using @ operator:\\n\", dot_product_at)\n",
    "print(A*B)\n",
    "\n",
    "random = np.random.rand(3, 2)\n",
    "print(random)\n",
    "\n",
    "arr = np.random.randint(1, 100, 20)\n",
    "arr = arr.reshape(-1, 4)\n",
    "print(arr)\n",
    "arr = arr.reshape(4, -1)\n",
    "print(arr)\n",
    "\n",
    "np.random.seed(111)\n",
    "arr = np.random.randint(1, 500, 30).reshape(6, 5)\n",
    "print(arr)\n",
    "print(arr[2:, 2:])\n",
    "print(arr[3:5, 2:4])\n",
    "ar = np.array([1, 2, 3, 4, 5, 6, 7, 8, 9, 10])\n",
    "slicing = ar[4:9]\n",
    "slicing[:] = 0\n",
    "print(slicing)\n",
    "print(ar)"
   ]
  },
  {
   "cell_type": "code",
   "execution_count": 16,
   "metadata": {},
   "outputs": [
    {
     "name": "stdout",
     "output_type": "stream",
     "text": [
      "Exam Scores:\n",
      " [[85 90 78 92 88 95 77 80 82 65]\n",
      " [70 68 88 95 92 72 75 95 92 92]\n",
      " [96 68 70 75 88 85 89 78 82 80]]\n",
      "Average Scores: [83.2 83.9 81.1]\n"
     ]
    }
   ],
   "source": [
    "import numpy as np\n",
    "\n",
    "# Example data: Exam scores of students in different subjects\n",
    "exam_scores = np.array([\n",
    "    [85, 90, 78, 92, 88, 95, 77, 80, 82, 65],\n",
    "    [70, 68, 88, 95, 92, 72, 75, 95, 92, 92],\n",
    "    [96, 68, 70, 75, 88, 85, 89, 78, 82, 80]\n",
    "])\n",
    "\n",
    "# Calculate the average score of each student\n",
    "average_scores = np.mean(exam_scores, axis=1)\n",
    "\n",
    "print(\"Exam Scores:\\n\", exam_scores)\n",
    "print(\"Average Scores:\", average_scores)"
   ]
  },
  {
   "cell_type": "code",
   "execution_count": 17,
   "metadata": {},
   "outputs": [
    {
     "name": "stdout",
     "output_type": "stream",
     "text": [
      "Temperature Data for a Week: [25 28 22 26 24 27 23]\n",
      "First Three Days Temperatures: [25 28 22]\n",
      "Fourth Day Temperature: 26\n",
      "Reshaped Data:\n",
      " [[25]\n",
      " [28]\n",
      " [22]\n",
      " [26]\n",
      " [24]\n",
      " [27]\n",
      " [23]]\n",
      "Mean Temperature: 25.0\n",
      "Median Temperature: 25.0\n",
      "Standard Deviation of Temperature: 2.0\n"
     ]
    }
   ],
   "source": [
    "import numpy as np\n",
    "\n",
    "# Example data: Temperature data for a week (7 days) in Celsius\n",
    "temperature_data = np.array([25, 28, 22, 26, 24, 27, 23])\n",
    "\n",
    "# Perform slicing: Get temperatures for the first three days\n",
    "first_three_days = temperature_data[:3]\n",
    "\n",
    "# Perform indexing: Get the temperature of the fourth day\n",
    "fourth_day_temp = temperature_data[3]\n",
    "\n",
    "# Reshape the array: Convert 1D array to 2D array (1 week of temperatures, 1 temperature per day)\n",
    "reshaped_data = temperature_data.reshape(7, 1)\n",
    "\n",
    "# Calculate statistics: Mean, Median, Standard Deviation\n",
    "mean_temp = np.mean(temperature_data)\n",
    "median_temp = np.median(temperature_data)\n",
    "std_dev_temp = np.std(temperature_data)\n",
    "\n",
    "print(\"Temperature Data for a Week:\", temperature_data)\n",
    "print(\"First Three Days Temperatures:\", first_three_days)\n",
    "print(\"Fourth Day Temperature:\", fourth_day_temp)\n",
    "print(\"Reshaped Data:\\n\", reshaped_data)\n",
    "print(\"Mean Temperature:\", mean_temp)\n",
    "print(\"Median Temperature:\", median_temp)\n",
    "print(\"Standard Deviation of Temperature:\", std_dev_temp)"
   ]
  },
  {
   "cell_type": "code",
   "execution_count": 22,
   "metadata": {},
   "outputs": [
    {
     "name": "stdout",
     "output_type": "stream",
     "text": [
      "[ 1  2  3  4  5  6  7  8  9 10 11 12 13 14]\n",
      "[ 2  4  6  8 10 12 14]\n",
      "[ 1  3  5  7  9 11 13]\n",
      "[ 9 10 11 12 13 14]\n",
      "[ 1  0  3  0  5  0  7  0  9  0 11  0 13  0]\n",
      "[3 4 5 6 7 8 9]\n",
      "[ 2  4  6  8 10 12 14]\n",
      "[ 1  4  9 16 25 36 49]\n",
      "[10 20 30 25  6  2]\n",
      "2\n",
      "30\n",
      "5\n",
      "2\n",
      "[3.16227766 4.47213595 5.47722558 5.         2.44948974 1.41421356]\n",
      "[-0.54402111  0.91294525 -0.98803162 -0.13235175 -0.2794155   0.90929743]\n",
      "[-0.83907153  0.40808206  0.15425145  0.99120281  0.96017029 -0.41614684]\n",
      "[[16 11 13]\n",
      " [17 13 16]\n",
      " [ 3 16 11]]\n",
      "116\n",
      "[ 16  27  40  57  70  86  89 105 116]\n",
      "3\n",
      "17\n",
      "------------------------\n",
      "[40 46 30]\n",
      "[11 13  3]\n",
      "[16 17 16]\n",
      "[[16 27 40]\n",
      " [17 30 46]\n",
      " [ 3 19 30]]\n",
      "[ 16  27  40  57  70  86  89 105 116]\n",
      "[[16 11 13]\n",
      " [ 3 16 11]\n",
      " [17 13 16]]\n",
      "(array([ 3, 11, 13, 16, 17]), array([3, 1, 2, 0, 6]), array([1, 2, 2, 3, 1]))\n",
      "5\n",
      "0.1569918378916666\n",
      "[[60 62 66]\n",
      " [62 65 52]\n",
      " [65 60 59]]\n"
     ]
    }
   ],
   "source": [
    "ar = np.arange(1,15)\n",
    "print(ar)\n",
    "print(ar[ar%2==0])\n",
    "print(ar[ar%2!=0])  \n",
    "print(ar[ar>8])\n",
    "ar[ar%2==0]=0\n",
    "print(ar)\n",
    "\n",
    "arr = np.arange(1,8)\n",
    "print(arr+2)\n",
    "print(arr*2)\n",
    "print(arr**2)\n",
    "\n",
    "arr = np.array([10,20,30,25,6,2])\n",
    "print(arr)\n",
    "print(np.min(arr))\n",
    "print(np.max(arr))\n",
    "print(np.argmin(arr))\n",
    "print(np.argmax(arr))\n",
    "print(np.sqrt(arr))\n",
    "print(np.sin(arr))\n",
    "print(np.cos(arr))\n",
    "\n",
    "np.random.seed(122)\n",
    "mat = np.random.randint(1,21,9).reshape(3,3)\n",
    "print(mat)\n",
    "print(np.sum(mat))\n",
    "print(np.cumsum(mat))\n",
    "print(np.min(mat))\n",
    "print(np.max(mat))\n",
    "print(\"------------------------\")\n",
    "print(np.sum(mat,axis=1))\n",
    "print(np.min(mat,axis=1))\n",
    "print(np.max(mat,axis=1))\n",
    "print(np.cumsum(mat,axis=1))\n",
    "\n",
    "\n",
    "def cumsum(mat):\n",
    "    arr = np.array([],dtype=int)\n",
    "    sum = 0\n",
    "    \n",
    "    for row in mat:\n",
    "        for i in row:\n",
    "            sum += i\n",
    "            arr = np.append(arr,sum)\n",
    "    return arr\n",
    "\n",
    "mat = np.array([[16, 11 ,13],[17 ,13 ,16],[ 3 ,16 ,11]])\n",
    "arr = cumsum(mat)\n",
    "print(arr)\n",
    "\n",
    "np.random.shuffle(mat)\n",
    "print(mat)\n",
    "print(np.unique(mat,return_index=True,return_counts=True))\n",
    "print(np.unique(mat).size)\n",
    "\n",
    "np.random.seed(122)\n",
    "mat1 = np.random.randint(1,21,9).reshape(3,3)\n",
    "mat2 = np.random.randint(50,71,9).reshape(3,3)\n",
    "print(mat1)\n",
    "print(mat2)\n",
    "print(np.vstack((mat1,mat2)))\n",
    "print(np.hstack((mat1,mat2)))"
   ]
  },
  {
   "cell_type": "code",
   "execution_count": 46,
   "metadata": {},
   "outputs": [
    {
     "data": {
      "text/plain": [
       "array([2, 3, 8])"
      ]
     },
     "execution_count": 46,
     "metadata": {},
     "output_type": "execute_result"
    }
   ],
   "source": [
    "arr = np.array([1,2,4,6,7,8,9,5,10,3])\n",
    "np.searchsorted(arr,[3,5,10])"
   ]
  }
 ],
 "metadata": {
  "kernelspec": {
   "display_name": "Python 3",
   "language": "python",
   "name": "python3"
  },
  "language_info": {
   "codemirror_mode": {
    "name": "ipython",
    "version": 3
   },
   "file_extension": ".py",
   "mimetype": "text/x-python",
   "name": "python",
   "nbconvert_exporter": "python",
   "pygments_lexer": "ipython3",
   "version": "3.11.5"
  }
 },
 "nbformat": 4,
 "nbformat_minor": 2
}
