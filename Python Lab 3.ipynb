{
 "cells": [
  {
   "cell_type": "code",
   "execution_count": 1,
   "metadata": {},
   "outputs": [
    {
     "name": "stdout",
     "output_type": "stream",
     "text": [
      "Total Revenue: [ 950 1300 1500 1150]\n"
     ]
    }
   ],
   "source": [
    "import numpy as np\n",
    "category1_revenue = np.array([500,600,700,550])\n",
    "category2_revenue = np.array([450,700,800,600])\n",
    "total_revenue = category1_revenue + category2_revenue\n",
    "print(\"Total Revenue:\",total_revenue)"
   ]
  },
  {
   "cell_type": "code",
   "execution_count": 2,
   "metadata": {},
   "outputs": [
    {
     "name": "stdout",
     "output_type": "stream",
     "text": [
      "Profit: [6000 7000 6500 5700]\n"
     ]
    }
   ],
   "source": [
    "revenue = np.array([10000,12000,11000,10500])\n",
    "expenses = np.array([4000,5000,4500,4800])\n",
    "profit = revenue - expenses\n",
    "print(\"Profit:\",profit)"
   ]
  },
  {
   "cell_type": "code",
   "execution_count": 12,
   "metadata": {},
   "outputs": [
    {
     "name": "stdout",
     "output_type": "stream",
     "text": [
      "Out of Stock Products: [0 0 0]\n"
     ]
    }
   ],
   "source": [
    "import numpy as np\n",
    "\n",
    "inventory = np.array([10, 0, 5, 0, 20, 0])\n",
    "zero_indices = np.where(inventory == 0)\n",
    "print(\"Out of Stock Products:\", inventory[zero_indices])"
   ]
  },
  {
   "cell_type": "code",
   "execution_count": 11,
   "metadata": {},
   "outputs": [
    {
     "name": "stdout",
     "output_type": "stream",
     "text": [
      "Total Cost of items: [20. 15. 32. 12.]\n"
     ]
    }
   ],
   "source": [
    "quantity = np.array([2,3,4,1])\n",
    "price_per_item = np.array([10.0,5.0,8.0,12.0])\n",
    "print(\"Total Cost of items:\",quantity*price_per_item)"
   ]
  }
 ],
 "metadata": {
  "kernelspec": {
   "display_name": "Python 3",
   "language": "python",
   "name": "python3"
  },
  "language_info": {
   "codemirror_mode": {
    "name": "ipython",
    "version": 3
   },
   "file_extension": ".py",
   "mimetype": "text/x-python",
   "name": "python",
   "nbconvert_exporter": "python",
   "pygments_lexer": "ipython3",
   "version": "3.11.5"
  }
 },
 "nbformat": 4,
 "nbformat_minor": 2
}
