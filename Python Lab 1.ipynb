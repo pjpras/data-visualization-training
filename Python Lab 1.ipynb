{
 "cells": [
  {
   "cell_type": "markdown",
   "metadata": {},
   "source": [
    "### LAB 1"
   ]
  },
  {
   "cell_type": "markdown",
   "metadata": {},
   "source": [
    "1. Convert the below list into numpy array then display the array \n",
    "\n",
    "Input: my_list = [1, 2, 3, 4, 5] "
   ]
  },
  {
   "cell_type": "code",
   "execution_count": 2,
   "metadata": {},
   "outputs": [
    {
     "name": "stdout",
     "output_type": "stream",
     "text": [
      "[1 2 3 4 5]\n"
     ]
    }
   ],
   "source": [
    "# 1\n",
    "import numpy as np\n",
    "my_list=[1,2,3,4,5]\n",
    "my_array=np.array(my_list)\n",
    "print(my_array)"
   ]
  },
  {
   "cell_type": "markdown",
   "metadata": {},
   "source": [
    "2. Convert the below list into a numpy array then display the array then display the first and last index and then multiply each element by 2 and display the result. \n",
    "\n",
    "Input: my_list = [1, 2, 3, 4, 5] "
   ]
  },
  {
   "cell_type": "code",
   "execution_count": 3,
   "metadata": {},
   "outputs": [
    {
     "name": "stdout",
     "output_type": "stream",
     "text": [
      "[1 2 3 4 5]\n",
      "First Element:  1\n",
      "Second Element:  2\n",
      "Array after doubling each element:\n",
      " [ 2  4  6  8 10]\n"
     ]
    }
   ],
   "source": [
    "# 2\n",
    "my_list=[1,2,3,4,5]\n",
    "my_array=np.array(my_list)\n",
    "print(my_array)\n",
    "print(\"First Element: \",my_array[0])\n",
    "print(\"Second Element: \",my_array[1])\n",
    "my_array = my_array*2\n",
    "print(\"Array after doubling each element:\\n\",my_array)"
   ]
  },
  {
   "cell_type": "markdown",
   "metadata": {},
   "source": [
    " Lab3 : Working with Numpy using Jupyter \n",
    "\n",
    "1. Write a NumPy program to create an array of 10 zeros, 10 ones, and 10 fives.  "
   ]
  },
  {
   "cell_type": "code",
   "execution_count": 4,
   "metadata": {},
   "outputs": [
    {
     "name": "stdout",
     "output_type": "stream",
     "text": [
      "Array of 10 Zeros:\n",
      " [0. 0. 0. 0. 0. 0. 0. 0. 0. 0.]\n",
      "Array of 10 Ones:\n",
      " [1. 1. 1. 1. 1. 1. 1. 1. 1. 1.]\n",
      "Array of 10 Fives:\n",
      " [5. 5. 5. 5. 5. 5. 5. 5. 5. 5.]\n"
     ]
    }
   ],
   "source": [
    "# 1\n",
    "arr_zeros = np.zeros(10)\n",
    "arr_ones = np.ones(10)\n",
    "arr_fives = np.ones(10)*5\n",
    "print(\"Array of 10 Zeros:\\n\",arr_zeros)\n",
    "print(\"Array of 10 Ones:\\n\",arr_ones)\n",
    "print(\"Array of 10 Fives:\\n\",arr_fives)"
   ]
  },
  {
   "cell_type": "markdown",
   "metadata": {},
   "source": [
    "2. Write a NumPy program to create a 3x3 matrix with values ranging from 2 to 10. \n",
    "\n"
   ]
  },
  {
   "cell_type": "code",
   "execution_count": 5,
   "metadata": {},
   "outputs": [
    {
     "name": "stdout",
     "output_type": "stream",
     "text": [
      "[[ 2  3  4]\n",
      " [ 5  6  7]\n",
      " [ 8  9 10]]\n"
     ]
    }
   ],
   "source": [
    "# 2\n",
    "mat = np.arange(2,11).reshape(3,3)\n",
    "print(mat)"
   ]
  }
 ],
 "metadata": {
  "kernelspec": {
   "display_name": "Python 3",
   "language": "python",
   "name": "python3"
  },
  "language_info": {
   "codemirror_mode": {
    "name": "ipython",
    "version": 3
   },
   "file_extension": ".py",
   "mimetype": "text/x-python",
   "name": "python",
   "nbconvert_exporter": "python",
   "pygments_lexer": "ipython3",
   "version": "3.11.5"
  }
 },
 "nbformat": 4,
 "nbformat_minor": 2
}
